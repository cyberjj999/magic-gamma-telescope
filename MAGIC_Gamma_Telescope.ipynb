{
  "cells": [
    {
      "cell_type": "code",
      "execution_count": 1,
      "metadata": {
        "id": "6mveuRNA0wHC"
      },
      "outputs": [],
      "source": [
        "import numpy as np\n",
        "import pandas as pd\n",
        "import matplotlib.pyplot as plt"
      ]
    },
    {
      "cell_type": "markdown",
      "metadata": {
        "id": "Sr61HrWWzcZs"
      },
      "source": [
        "### Dataset: Magic Gamma Telescope\n",
        "Dua, D. and Graff, C. (2019). UCI Machine Learning Repository [http://archive.ics.uci.edu/ml]. Irvine, CA: University of California, School of Information and Computer Science.\n",
        "\n",
        "Donated by:\n",
        "P. Savicky\n",
        "Institute of Computer Science, AS of CR\n",
        "Czech Republic\n",
        "savicky '@' cs.cas.cz"
      ]
    },
    {
      "cell_type": "markdown",
      "metadata": {
        "id": "sjisOX3v1mON"
      },
      "source": [
        "### Read CSV"
      ]
    },
    {
      "cell_type": "markdown",
      "metadata": {
        "id": "YjzrmEUZ2xXu"
      },
      "source": [
        "#### Problem: We realize there is no column names in the given dataset, let us go to the dataset to extract the column names and label them ourselves"
      ]
    },
    {
      "cell_type": "code",
      "execution_count": 2,
      "metadata": {
        "colab": {
          "base_uri": "https://localhost:8080/",
          "height": 444
        },
        "id": "JdLTTnyR04dh",
        "outputId": "df14ceb9-b6dc-4491-cdb4-abd7c534b6a5"
      },
      "outputs": [
        {
          "data": {
            "text/html": [
              "<div>\n",
              "<style scoped>\n",
              "    .dataframe tbody tr th:only-of-type {\n",
              "        vertical-align: middle;\n",
              "    }\n",
              "\n",
              "    .dataframe tbody tr th {\n",
              "        vertical-align: top;\n",
              "    }\n",
              "\n",
              "    .dataframe thead th {\n",
              "        text-align: right;\n",
              "    }\n",
              "</style>\n",
              "<table border=\"1\" class=\"dataframe\">\n",
              "  <thead>\n",
              "    <tr style=\"text-align: right;\">\n",
              "      <th></th>\n",
              "      <th>28.7967</th>\n",
              "      <th>16.0021</th>\n",
              "      <th>2.6449</th>\n",
              "      <th>0.3918</th>\n",
              "      <th>0.1982</th>\n",
              "      <th>27.7004</th>\n",
              "      <th>22.011</th>\n",
              "      <th>-8.2027</th>\n",
              "      <th>40.092</th>\n",
              "      <th>81.8828</th>\n",
              "      <th>g</th>\n",
              "    </tr>\n",
              "  </thead>\n",
              "  <tbody>\n",
              "    <tr>\n",
              "      <th>0</th>\n",
              "      <td>31.6036</td>\n",
              "      <td>11.7235</td>\n",
              "      <td>2.5185</td>\n",
              "      <td>0.5303</td>\n",
              "      <td>0.3773</td>\n",
              "      <td>26.2722</td>\n",
              "      <td>23.8238</td>\n",
              "      <td>-9.9574</td>\n",
              "      <td>6.3609</td>\n",
              "      <td>205.2610</td>\n",
              "      <td>g</td>\n",
              "    </tr>\n",
              "    <tr>\n",
              "      <th>1</th>\n",
              "      <td>162.0520</td>\n",
              "      <td>136.0310</td>\n",
              "      <td>4.0612</td>\n",
              "      <td>0.0374</td>\n",
              "      <td>0.0187</td>\n",
              "      <td>116.7410</td>\n",
              "      <td>-64.8580</td>\n",
              "      <td>-45.2160</td>\n",
              "      <td>76.9600</td>\n",
              "      <td>256.7880</td>\n",
              "      <td>g</td>\n",
              "    </tr>\n",
              "    <tr>\n",
              "      <th>2</th>\n",
              "      <td>23.8172</td>\n",
              "      <td>9.5728</td>\n",
              "      <td>2.3385</td>\n",
              "      <td>0.6147</td>\n",
              "      <td>0.3922</td>\n",
              "      <td>27.2107</td>\n",
              "      <td>-6.4633</td>\n",
              "      <td>-7.1513</td>\n",
              "      <td>10.4490</td>\n",
              "      <td>116.7370</td>\n",
              "      <td>g</td>\n",
              "    </tr>\n",
              "    <tr>\n",
              "      <th>3</th>\n",
              "      <td>75.1362</td>\n",
              "      <td>30.9205</td>\n",
              "      <td>3.1611</td>\n",
              "      <td>0.3168</td>\n",
              "      <td>0.1832</td>\n",
              "      <td>-5.5277</td>\n",
              "      <td>28.5525</td>\n",
              "      <td>21.8393</td>\n",
              "      <td>4.6480</td>\n",
              "      <td>356.4620</td>\n",
              "      <td>g</td>\n",
              "    </tr>\n",
              "    <tr>\n",
              "      <th>4</th>\n",
              "      <td>51.6240</td>\n",
              "      <td>21.1502</td>\n",
              "      <td>2.9085</td>\n",
              "      <td>0.2420</td>\n",
              "      <td>0.1340</td>\n",
              "      <td>50.8761</td>\n",
              "      <td>43.1887</td>\n",
              "      <td>9.8145</td>\n",
              "      <td>3.6130</td>\n",
              "      <td>238.0980</td>\n",
              "      <td>g</td>\n",
              "    </tr>\n",
              "    <tr>\n",
              "      <th>...</th>\n",
              "      <td>...</td>\n",
              "      <td>...</td>\n",
              "      <td>...</td>\n",
              "      <td>...</td>\n",
              "      <td>...</td>\n",
              "      <td>...</td>\n",
              "      <td>...</td>\n",
              "      <td>...</td>\n",
              "      <td>...</td>\n",
              "      <td>...</td>\n",
              "      <td>...</td>\n",
              "    </tr>\n",
              "    <tr>\n",
              "      <th>19014</th>\n",
              "      <td>21.3846</td>\n",
              "      <td>10.9170</td>\n",
              "      <td>2.6161</td>\n",
              "      <td>0.5857</td>\n",
              "      <td>0.3934</td>\n",
              "      <td>15.2618</td>\n",
              "      <td>11.5245</td>\n",
              "      <td>2.8766</td>\n",
              "      <td>2.4229</td>\n",
              "      <td>106.8258</td>\n",
              "      <td>h</td>\n",
              "    </tr>\n",
              "    <tr>\n",
              "      <th>19015</th>\n",
              "      <td>28.9452</td>\n",
              "      <td>6.7020</td>\n",
              "      <td>2.2672</td>\n",
              "      <td>0.5351</td>\n",
              "      <td>0.2784</td>\n",
              "      <td>37.0816</td>\n",
              "      <td>13.1853</td>\n",
              "      <td>-2.9632</td>\n",
              "      <td>86.7975</td>\n",
              "      <td>247.4560</td>\n",
              "      <td>h</td>\n",
              "    </tr>\n",
              "    <tr>\n",
              "      <th>19016</th>\n",
              "      <td>75.4455</td>\n",
              "      <td>47.5305</td>\n",
              "      <td>3.4483</td>\n",
              "      <td>0.1417</td>\n",
              "      <td>0.0549</td>\n",
              "      <td>-9.3561</td>\n",
              "      <td>41.0562</td>\n",
              "      <td>-9.4662</td>\n",
              "      <td>30.2987</td>\n",
              "      <td>256.5166</td>\n",
              "      <td>h</td>\n",
              "    </tr>\n",
              "    <tr>\n",
              "      <th>19017</th>\n",
              "      <td>120.5135</td>\n",
              "      <td>76.9018</td>\n",
              "      <td>3.9939</td>\n",
              "      <td>0.0944</td>\n",
              "      <td>0.0683</td>\n",
              "      <td>5.8043</td>\n",
              "      <td>-93.5224</td>\n",
              "      <td>-63.8389</td>\n",
              "      <td>84.6874</td>\n",
              "      <td>408.3166</td>\n",
              "      <td>h</td>\n",
              "    </tr>\n",
              "    <tr>\n",
              "      <th>19018</th>\n",
              "      <td>187.1814</td>\n",
              "      <td>53.0014</td>\n",
              "      <td>3.2093</td>\n",
              "      <td>0.2876</td>\n",
              "      <td>0.1539</td>\n",
              "      <td>-167.3125</td>\n",
              "      <td>-168.4558</td>\n",
              "      <td>31.4755</td>\n",
              "      <td>52.7310</td>\n",
              "      <td>272.3174</td>\n",
              "      <td>h</td>\n",
              "    </tr>\n",
              "  </tbody>\n",
              "</table>\n",
              "<p>19019 rows × 11 columns</p>\n",
              "</div>"
            ],
            "text/plain": [
              "        28.7967   16.0021  2.6449  0.3918  0.1982   27.7004    22.011  \\\n",
              "0       31.6036   11.7235  2.5185  0.5303  0.3773   26.2722   23.8238   \n",
              "1      162.0520  136.0310  4.0612  0.0374  0.0187  116.7410  -64.8580   \n",
              "2       23.8172    9.5728  2.3385  0.6147  0.3922   27.2107   -6.4633   \n",
              "3       75.1362   30.9205  3.1611  0.3168  0.1832   -5.5277   28.5525   \n",
              "4       51.6240   21.1502  2.9085  0.2420  0.1340   50.8761   43.1887   \n",
              "...         ...       ...     ...     ...     ...       ...       ...   \n",
              "19014   21.3846   10.9170  2.6161  0.5857  0.3934   15.2618   11.5245   \n",
              "19015   28.9452    6.7020  2.2672  0.5351  0.2784   37.0816   13.1853   \n",
              "19016   75.4455   47.5305  3.4483  0.1417  0.0549   -9.3561   41.0562   \n",
              "19017  120.5135   76.9018  3.9939  0.0944  0.0683    5.8043  -93.5224   \n",
              "19018  187.1814   53.0014  3.2093  0.2876  0.1539 -167.3125 -168.4558   \n",
              "\n",
              "       -8.2027   40.092   81.8828  g  \n",
              "0      -9.9574   6.3609  205.2610  g  \n",
              "1     -45.2160  76.9600  256.7880  g  \n",
              "2      -7.1513  10.4490  116.7370  g  \n",
              "3      21.8393   4.6480  356.4620  g  \n",
              "4       9.8145   3.6130  238.0980  g  \n",
              "...        ...      ...       ... ..  \n",
              "19014   2.8766   2.4229  106.8258  h  \n",
              "19015  -2.9632  86.7975  247.4560  h  \n",
              "19016  -9.4662  30.2987  256.5166  h  \n",
              "19017 -63.8389  84.6874  408.3166  h  \n",
              "19018  31.4755  52.7310  272.3174  h  \n",
              "\n",
              "[19019 rows x 11 columns]"
            ]
          },
          "execution_count": 2,
          "metadata": {},
          "output_type": "execute_result"
        }
      ],
      "source": [
        "pd.read_csv(\"magic-gamma-telescope/magic04.data\")"
      ]
    },
    {
      "cell_type": "markdown",
      "metadata": {
        "id": "yPzrnCl9233C"
      },
      "source": [
        "#### Solution: We will take the following value from the website to apply as column headers"
      ]
    },
    {
      "cell_type": "markdown",
      "metadata": {
        "id": "uSg70LtX17kR"
      },
      "source": [
        "![image.png](data:image/png;base64,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)"
      ]
    },
    {
      "cell_type": "code",
      "execution_count": 3,
      "metadata": {
        "colab": {
          "base_uri": "https://localhost:8080/",
          "height": 226
        },
        "id": "6mJvqAPZ2YaZ",
        "outputId": "998adfec-f159-4892-ae96-74f92449bf5e"
      },
      "outputs": [
        {
          "data": {
            "text/html": [
              "<div>\n",
              "<style scoped>\n",
              "    .dataframe tbody tr th:only-of-type {\n",
              "        vertical-align: middle;\n",
              "    }\n",
              "\n",
              "    .dataframe tbody tr th {\n",
              "        vertical-align: top;\n",
              "    }\n",
              "\n",
              "    .dataframe thead th {\n",
              "        text-align: right;\n",
              "    }\n",
              "</style>\n",
              "<table border=\"1\" class=\"dataframe\">\n",
              "  <thead>\n",
              "    <tr style=\"text-align: right;\">\n",
              "      <th></th>\n",
              "      <th>fLength</th>\n",
              "      <th>fWidth</th>\n",
              "      <th>fSize</th>\n",
              "      <th>fConc</th>\n",
              "      <th>fConc1</th>\n",
              "      <th>fAsym</th>\n",
              "      <th>fM3Long</th>\n",
              "      <th>fM3Trans</th>\n",
              "      <th>fAlpha</th>\n",
              "      <th>fDist</th>\n",
              "      <th>class</th>\n",
              "    </tr>\n",
              "  </thead>\n",
              "  <tbody>\n",
              "    <tr>\n",
              "      <th>0</th>\n",
              "      <td>28.7967</td>\n",
              "      <td>16.0021</td>\n",
              "      <td>2.6449</td>\n",
              "      <td>0.3918</td>\n",
              "      <td>0.1982</td>\n",
              "      <td>27.7004</td>\n",
              "      <td>22.0110</td>\n",
              "      <td>-8.2027</td>\n",
              "      <td>40.0920</td>\n",
              "      <td>81.8828</td>\n",
              "      <td>g</td>\n",
              "    </tr>\n",
              "    <tr>\n",
              "      <th>1</th>\n",
              "      <td>31.6036</td>\n",
              "      <td>11.7235</td>\n",
              "      <td>2.5185</td>\n",
              "      <td>0.5303</td>\n",
              "      <td>0.3773</td>\n",
              "      <td>26.2722</td>\n",
              "      <td>23.8238</td>\n",
              "      <td>-9.9574</td>\n",
              "      <td>6.3609</td>\n",
              "      <td>205.2610</td>\n",
              "      <td>g</td>\n",
              "    </tr>\n",
              "    <tr>\n",
              "      <th>2</th>\n",
              "      <td>162.0520</td>\n",
              "      <td>136.0310</td>\n",
              "      <td>4.0612</td>\n",
              "      <td>0.0374</td>\n",
              "      <td>0.0187</td>\n",
              "      <td>116.7410</td>\n",
              "      <td>-64.8580</td>\n",
              "      <td>-45.2160</td>\n",
              "      <td>76.9600</td>\n",
              "      <td>256.7880</td>\n",
              "      <td>g</td>\n",
              "    </tr>\n",
              "    <tr>\n",
              "      <th>3</th>\n",
              "      <td>23.8172</td>\n",
              "      <td>9.5728</td>\n",
              "      <td>2.3385</td>\n",
              "      <td>0.6147</td>\n",
              "      <td>0.3922</td>\n",
              "      <td>27.2107</td>\n",
              "      <td>-6.4633</td>\n",
              "      <td>-7.1513</td>\n",
              "      <td>10.4490</td>\n",
              "      <td>116.7370</td>\n",
              "      <td>g</td>\n",
              "    </tr>\n",
              "    <tr>\n",
              "      <th>4</th>\n",
              "      <td>75.1362</td>\n",
              "      <td>30.9205</td>\n",
              "      <td>3.1611</td>\n",
              "      <td>0.3168</td>\n",
              "      <td>0.1832</td>\n",
              "      <td>-5.5277</td>\n",
              "      <td>28.5525</td>\n",
              "      <td>21.8393</td>\n",
              "      <td>4.6480</td>\n",
              "      <td>356.4620</td>\n",
              "      <td>g</td>\n",
              "    </tr>\n",
              "  </tbody>\n",
              "</table>\n",
              "</div>"
            ],
            "text/plain": [
              "    fLength    fWidth   fSize   fConc  fConc1     fAsym  fM3Long  fM3Trans  \\\n",
              "0   28.7967   16.0021  2.6449  0.3918  0.1982   27.7004  22.0110   -8.2027   \n",
              "1   31.6036   11.7235  2.5185  0.5303  0.3773   26.2722  23.8238   -9.9574   \n",
              "2  162.0520  136.0310  4.0612  0.0374  0.0187  116.7410 -64.8580  -45.2160   \n",
              "3   23.8172    9.5728  2.3385  0.6147  0.3922   27.2107  -6.4633   -7.1513   \n",
              "4   75.1362   30.9205  3.1611  0.3168  0.1832   -5.5277  28.5525   21.8393   \n",
              "\n",
              "    fAlpha     fDist class  \n",
              "0  40.0920   81.8828     g  \n",
              "1   6.3609  205.2610     g  \n",
              "2  76.9600  256.7880     g  \n",
              "3  10.4490  116.7370     g  \n",
              "4   4.6480  356.4620     g  "
            ]
          },
          "execution_count": 3,
          "metadata": {},
          "output_type": "execute_result"
        }
      ],
      "source": [
        "# typing out all the columns header name\n",
        "cols = [\"fLength\", \"fWidth\", \"fSize\", \"fConc\", \"fConc1\", \"fAsym\", \"fM3Long\", \"fM3Trans\", \"fAlpha\", \"fDist\", \"class\"]\n",
        "\n",
        "# applying the column headers using 'names' attribute\n",
        "# store output to df (dataframe, basically rows + columns)\n",
        "df = pd.read_csv(\"magic-gamma-telescope/magic04.data\", names=cols)\n",
        "# show first five lines\n",
        "df.head()"
      ]
    },
    {
      "cell_type": "code",
      "execution_count": 4,
      "metadata": {
        "id": "s8I2OLyF1e4r"
      },
      "outputs": [
        {
          "data": {
            "text/plain": [
              "array(['g', 'h'], dtype=object)"
            ]
          },
          "execution_count": 4,
          "metadata": {},
          "output_type": "execute_result"
        }
      ],
      "source": [
        "# .unique() returns the unique value in a Pandas series (i.e. a given column) - [1, 2, 2, 3, 5] will return [1,2,3,5]\n",
        "# the output is either 'g' or 'h', which stands for Gamma or Hadron\n",
        "df[\"class\"].unique()"
      ]
    },
    {
      "cell_type": "markdown",
      "metadata": {},
      "source": [
        "#### Problem + Solution - Computer don't understand letters, so we need to convert letters to numbers (i.e. convert 'g' to 0 and 'h' to 1)"
      ]
    },
    {
      "cell_type": "code",
      "execution_count": 5,
      "metadata": {},
      "outputs": [
        {
          "data": {
            "text/plain": [
              "0        g\n",
              "1        g\n",
              "2        g\n",
              "3        g\n",
              "4        g\n",
              "        ..\n",
              "19015    h\n",
              "19016    h\n",
              "19017    h\n",
              "19018    h\n",
              "19019    h\n",
              "Name: class, Length: 19020, dtype: object"
            ]
          },
          "execution_count": 5,
          "metadata": {},
          "output_type": "execute_result"
        }
      ],
      "source": [
        "# panda series (column) representing all the \"class\" label\n",
        "df['class']"
      ]
    },
    {
      "cell_type": "code",
      "execution_count": 6,
      "metadata": {
        "id": "9tU1CCCn4BBd"
      },
      "outputs": [],
      "source": [
        "# the first part df['class'] == 'g' checks if the value is equal to g, if it is, boolean is true and thus will return 1\n",
        "# else it will return as 0, so all 'g' are turned into 1 and all 'h' are turned into 0. #bigbrain.\n",
        "df['class'] = (df['class'] == 'g').astype(int)"
      ]
    },
    {
      "cell_type": "markdown",
      "metadata": {},
      "source": [
        "### Classification\n",
        "- Given a list of all the **features** below, predict the **label**\n",
        "(P.S. `features` are the values you use to predict the `target variable`/`label`, i.e. fLength, fWidth, etc. are used to predict the label, the `class` column)"
      ]
    },
    {
      "cell_type": "code",
      "execution_count": 7,
      "metadata": {},
      "outputs": [
        {
          "data": {
            "text/html": [
              "<div>\n",
              "<style scoped>\n",
              "    .dataframe tbody tr th:only-of-type {\n",
              "        vertical-align: middle;\n",
              "    }\n",
              "\n",
              "    .dataframe tbody tr th {\n",
              "        vertical-align: top;\n",
              "    }\n",
              "\n",
              "    .dataframe thead th {\n",
              "        text-align: right;\n",
              "    }\n",
              "</style>\n",
              "<table border=\"1\" class=\"dataframe\">\n",
              "  <thead>\n",
              "    <tr style=\"text-align: right;\">\n",
              "      <th></th>\n",
              "      <th>fLength</th>\n",
              "      <th>fWidth</th>\n",
              "      <th>fSize</th>\n",
              "      <th>fConc</th>\n",
              "      <th>fConc1</th>\n",
              "      <th>fAsym</th>\n",
              "      <th>fM3Long</th>\n",
              "      <th>fM3Trans</th>\n",
              "      <th>fAlpha</th>\n",
              "      <th>fDist</th>\n",
              "      <th>class</th>\n",
              "    </tr>\n",
              "  </thead>\n",
              "  <tbody>\n",
              "    <tr>\n",
              "      <th>0</th>\n",
              "      <td>28.7967</td>\n",
              "      <td>16.0021</td>\n",
              "      <td>2.6449</td>\n",
              "      <td>0.3918</td>\n",
              "      <td>0.1982</td>\n",
              "      <td>27.7004</td>\n",
              "      <td>22.0110</td>\n",
              "      <td>-8.2027</td>\n",
              "      <td>40.0920</td>\n",
              "      <td>81.8828</td>\n",
              "      <td>1</td>\n",
              "    </tr>\n",
              "    <tr>\n",
              "      <th>1</th>\n",
              "      <td>31.6036</td>\n",
              "      <td>11.7235</td>\n",
              "      <td>2.5185</td>\n",
              "      <td>0.5303</td>\n",
              "      <td>0.3773</td>\n",
              "      <td>26.2722</td>\n",
              "      <td>23.8238</td>\n",
              "      <td>-9.9574</td>\n",
              "      <td>6.3609</td>\n",
              "      <td>205.2610</td>\n",
              "      <td>1</td>\n",
              "    </tr>\n",
              "    <tr>\n",
              "      <th>2</th>\n",
              "      <td>162.0520</td>\n",
              "      <td>136.0310</td>\n",
              "      <td>4.0612</td>\n",
              "      <td>0.0374</td>\n",
              "      <td>0.0187</td>\n",
              "      <td>116.7410</td>\n",
              "      <td>-64.8580</td>\n",
              "      <td>-45.2160</td>\n",
              "      <td>76.9600</td>\n",
              "      <td>256.7880</td>\n",
              "      <td>1</td>\n",
              "    </tr>\n",
              "    <tr>\n",
              "      <th>3</th>\n",
              "      <td>23.8172</td>\n",
              "      <td>9.5728</td>\n",
              "      <td>2.3385</td>\n",
              "      <td>0.6147</td>\n",
              "      <td>0.3922</td>\n",
              "      <td>27.2107</td>\n",
              "      <td>-6.4633</td>\n",
              "      <td>-7.1513</td>\n",
              "      <td>10.4490</td>\n",
              "      <td>116.7370</td>\n",
              "      <td>1</td>\n",
              "    </tr>\n",
              "    <tr>\n",
              "      <th>4</th>\n",
              "      <td>75.1362</td>\n",
              "      <td>30.9205</td>\n",
              "      <td>3.1611</td>\n",
              "      <td>0.3168</td>\n",
              "      <td>0.1832</td>\n",
              "      <td>-5.5277</td>\n",
              "      <td>28.5525</td>\n",
              "      <td>21.8393</td>\n",
              "      <td>4.6480</td>\n",
              "      <td>356.4620</td>\n",
              "      <td>1</td>\n",
              "    </tr>\n",
              "  </tbody>\n",
              "</table>\n",
              "</div>"
            ],
            "text/plain": [
              "    fLength    fWidth   fSize   fConc  fConc1     fAsym  fM3Long  fM3Trans  \\\n",
              "0   28.7967   16.0021  2.6449  0.3918  0.1982   27.7004  22.0110   -8.2027   \n",
              "1   31.6036   11.7235  2.5185  0.5303  0.3773   26.2722  23.8238   -9.9574   \n",
              "2  162.0520  136.0310  4.0612  0.0374  0.0187  116.7410 -64.8580  -45.2160   \n",
              "3   23.8172    9.5728  2.3385  0.6147  0.3922   27.2107  -6.4633   -7.1513   \n",
              "4   75.1362   30.9205  3.1611  0.3168  0.1832   -5.5277  28.5525   21.8393   \n",
              "\n",
              "    fAlpha     fDist  class  \n",
              "0  40.0920   81.8828      1  \n",
              "1   6.3609  205.2610      1  \n",
              "2  76.9600  256.7880      1  \n",
              "3  10.4490  116.7370      1  \n",
              "4   4.6480  356.4620      1  "
            ]
          },
          "execution_count": 7,
          "metadata": {},
          "output_type": "execute_result"
        }
      ],
      "source": [
        "# our classes are now 0 and 1 ('g' is 1 and 'h' is 0)\n",
        "df.head()"
      ]
    },
    {
      "cell_type": "code",
      "execution_count": 8,
      "metadata": {},
      "outputs": [
        {
          "data": {
            "text/plain": [
              "0         True\n",
              "1         True\n",
              "2         True\n",
              "3         True\n",
              "4         True\n",
              "         ...  \n",
              "19015    False\n",
              "19016    False\n",
              "19017    False\n",
              "19018    False\n",
              "19019    False\n",
              "Name: class, Length: 19020, dtype: bool"
            ]
          },
          "execution_count": 8,
          "metadata": {},
          "output_type": "execute_result"
        }
      ],
      "source": [
        "# df['class'] returns a series, i.e. index + value like 0 1, 1 1, etc.\n",
        "# when you use df['class'] == 1, you get a Series of true/false statements\n",
        "boolean_series = df['class'] == 1\n",
        "boolean_series"
      ]
    },
    {
      "cell_type": "code",
      "execution_count": 9,
      "metadata": {},
      "outputs": [],
      "source": [
        "# if you use the Series of true/false, you can find all the dataframe associated with this true value\n",
        "only_true_dataframe = df[boolean_series]"
      ]
    },
    {
      "cell_type": "code",
      "execution_count": 10,
      "metadata": {},
      "outputs": [
        {
          "data": {
            "text/plain": [
              "0         28.7967\n",
              "1         31.6036\n",
              "2        162.0520\n",
              "3         23.8172\n",
              "4         75.1362\n",
              "           ...   \n",
              "12327     12.8703\n",
              "12328     26.8595\n",
              "12329     22.0913\n",
              "12330     56.2216\n",
              "12331     31.5125\n",
              "Name: fLength, Length: 12332, dtype: float64"
            ]
          },
          "execution_count": 10,
          "metadata": {},
          "output_type": "execute_result"
        }
      ],
      "source": [
        "# then we can get the column name for these classes\n",
        "# i.e. get the fLength\n",
        "only_true_dataframe['fLength']"
      ]
    },
    {
      "cell_type": "markdown",
      "metadata": {},
      "source": [
        "#### Problem + Solution - We have limited knowledge of our dataset, let us visualize it better"
      ]
    },
    {
      "cell_type": "code",
      "execution_count": 11,
      "metadata": {
        "id": "ncyq0Li23zvO"
      },
      "outputs": [
        {
          "data": {
            "image/png": "[encoded data removed]",
            "text/plain": [
              "<Figure size 640x480 with 1 Axes>"
            ]
          },
          "metadata": {},
          "output_type": "display_data"
        },
        {
          "data": {
            "image/png": "[encoded data removed]",
            "text/plain": [
              "<Figure size 640x480 with 1 Axes>"
            ]
          },
          "metadata": {},
          "output_type": "display_data"
        },
        {
          "data": {
            "image/png": "[encoded data removed]",
            "text/plain": [
              "<Figure size 640x480 with 1 Axes>"
            ]
          },
          "metadata": {},
          "output_type": "display_data"
        },
        {
          "data": {
            "image/png": "[encoded data removed]",
            "text/plain": [
              "<Figure size 640x480 with 1 Axes>"
            ]
          },
          "metadata": {},
          "output_type": "display_data"
        },
        {
          "data": {
            "image/png": "[encoded data removed]",
            "text/plain": [
              "<Figure size 640x480 with 1 Axes>"
            ]
          },
          "metadata": {},
          "output_type": "display_data"
        },
        {
          "data": {
            "image/png": "[encoded data removed]",
            "text/plain": [
              "<Figure size 640x480 with 1 Axes>"
            ]
          },
          "metadata": {},
          "output_type": "display_data"
        },
        {
          "data": {
            "image/png": "[encoded data removed]",
            "text/plain": [
              "<Figure size 640x480 with 1 Axes>"
            ]
          },
          "metadata": {},
          "output_type": "display_data"
        },
        {
          "data": {
            "image/png": "[encoded data removed]",
            "text/plain": [
              "<Figure size 640x480 with 1 Axes>"
            ]
          },
          "metadata": {},
          "output_type": "display_data"
        },
        {
          "data": {
            "image/png": "[encoded data removed]",
            "text/plain": [
              "<Figure size 640x480 with 1 Axes>"
            ]
          },
          "metadata": {},
          "output_type": "display_data"
        },
        {
          "data": {
            "image/png": "[encoded data removed]",
            "text/plain": [
              "<Figure size 640x480 with 1 Axes>"
            ]
          },
          "metadata": {},
          "output_type": "display_data"
        }
      ],
      "source": [
        "# What we're fundamentally doing here is to plot a histogram to differentiate between gamma and hadron (i.e. class = 1 or class = 0). For each property, we can see which property is more likely to account for whiether something is gamma or hadron\n",
        "# Now, we'll grab all col headers except last header (the last header is the class)\n",
        "for col_header in cols[:-1]:\n",
        "    # color and alpha is merely for aesthetic representation of the graph\n",
        "    plt.hist(df[df['class']==1][col_header], color='blue', label='gamma', alpha=0.7)\n",
        "    plt.hist(df[df['class']==0][col_header], color='red', label='hadron', alpha=0.7)\n",
        "    plt.title(col_header)\n",
        "    plt.ylabel('Probability')\n",
        "    plt.xlabel(col_header)\n",
        "    # this will just show the legends\n",
        "    plt.legend()\n",
        "    plt.show() # plot the diagram\n",
        "\n",
        "# conclusion that you could potentailly draw is\n",
        "# 1. if the length is smaller, it'll likely be gamma\n",
        "# 2. if the size is  higher than 2000, it is likely gamma, etc."
      ]
    },
    {
      "cell_type": "markdown",
      "metadata": {},
      "source": [
        "# train, validation, and test dataset"
      ]
    },
    {
      "cell_type": "code",
      "execution_count": 12,
      "metadata": {},
      "outputs": [
        {
          "name": "stdout",
          "output_type": "stream",
          "text": [
            "       fLength  fWidth   fSize  fConc  fConc1    fAsym  fM3Long  fM3Trans  \\\n",
            "12703  16.8677  8.8821  2.4054  0.589  0.3472  32.1945  21.9606   -0.0666   \n",
            "\n",
            "       fAlpha     fDist  class  \n",
            "12703  62.694  112.6928      0  \n"
          ]
        },
        {
          "data": {
            "text/html": [
              "<div>\n",
              "<style scoped>\n",
              "    .dataframe tbody tr th:only-of-type {\n",
              "        vertical-align: middle;\n",
              "    }\n",
              "\n",
              "    .dataframe tbody tr th {\n",
              "        vertical-align: top;\n",
              "    }\n",
              "\n",
              "    .dataframe thead th {\n",
              "        text-align: right;\n",
              "    }\n",
              "</style>\n",
              "<table border=\"1\" class=\"dataframe\">\n",
              "  <thead>\n",
              "    <tr style=\"text-align: right;\">\n",
              "      <th></th>\n",
              "      <th>fLength</th>\n",
              "      <th>fWidth</th>\n",
              "      <th>fSize</th>\n",
              "      <th>fConc</th>\n",
              "      <th>fConc1</th>\n",
              "      <th>fAsym</th>\n",
              "      <th>fM3Long</th>\n",
              "      <th>fM3Trans</th>\n",
              "      <th>fAlpha</th>\n",
              "      <th>fDist</th>\n",
              "      <th>class</th>\n",
              "    </tr>\n",
              "  </thead>\n",
              "  <tbody>\n",
              "    <tr>\n",
              "      <th>241</th>\n",
              "      <td>100.2260</td>\n",
              "      <td>28.2220</td>\n",
              "      <td>3.3769</td>\n",
              "      <td>0.2179</td>\n",
              "      <td>0.1321</td>\n",
              "      <td>-42.0608</td>\n",
              "      <td>-33.4996</td>\n",
              "      <td>-13.6411</td>\n",
              "      <td>4.4376</td>\n",
              "      <td>299.4500</td>\n",
              "      <td>1</td>\n",
              "    </tr>\n",
              "    <tr>\n",
              "      <th>12593</th>\n",
              "      <td>140.2162</td>\n",
              "      <td>41.3453</td>\n",
              "      <td>3.2530</td>\n",
              "      <td>0.1686</td>\n",
              "      <td>0.1083</td>\n",
              "      <td>186.5148</td>\n",
              "      <td>-103.8037</td>\n",
              "      <td>-39.7902</td>\n",
              "      <td>86.0878</td>\n",
              "      <td>290.2365</td>\n",
              "      <td>0</td>\n",
              "    </tr>\n",
              "    <tr>\n",
              "      <th>16315</th>\n",
              "      <td>51.5075</td>\n",
              "      <td>21.1262</td>\n",
              "      <td>2.8742</td>\n",
              "      <td>0.2781</td>\n",
              "      <td>0.1644</td>\n",
              "      <td>62.3685</td>\n",
              "      <td>-7.4534</td>\n",
              "      <td>9.7978</td>\n",
              "      <td>31.9622</td>\n",
              "      <td>37.9488</td>\n",
              "      <td>0</td>\n",
              "    </tr>\n",
              "    <tr>\n",
              "      <th>18995</th>\n",
              "      <td>67.7139</td>\n",
              "      <td>28.5831</td>\n",
              "      <td>3.2384</td>\n",
              "      <td>0.2050</td>\n",
              "      <td>0.1106</td>\n",
              "      <td>-133.6450</td>\n",
              "      <td>63.1391</td>\n",
              "      <td>-16.6379</td>\n",
              "      <td>47.9790</td>\n",
              "      <td>251.9930</td>\n",
              "      <td>0</td>\n",
              "    </tr>\n",
              "    <tr>\n",
              "      <th>9646</th>\n",
              "      <td>33.4169</td>\n",
              "      <td>18.0260</td>\n",
              "      <td>2.8882</td>\n",
              "      <td>0.2652</td>\n",
              "      <td>0.1378</td>\n",
              "      <td>-35.9719</td>\n",
              "      <td>14.7763</td>\n",
              "      <td>-9.0004</td>\n",
              "      <td>15.8210</td>\n",
              "      <td>157.3060</td>\n",
              "      <td>1</td>\n",
              "    </tr>\n",
              "    <tr>\n",
              "      <th>...</th>\n",
              "      <td>...</td>\n",
              "      <td>...</td>\n",
              "      <td>...</td>\n",
              "      <td>...</td>\n",
              "      <td>...</td>\n",
              "      <td>...</td>\n",
              "      <td>...</td>\n",
              "      <td>...</td>\n",
              "      <td>...</td>\n",
              "      <td>...</td>\n",
              "      <td>...</td>\n",
              "    </tr>\n",
              "    <tr>\n",
              "      <th>10863</th>\n",
              "      <td>18.8845</td>\n",
              "      <td>14.3126</td>\n",
              "      <td>2.4370</td>\n",
              "      <td>0.5667</td>\n",
              "      <td>0.3199</td>\n",
              "      <td>19.2517</td>\n",
              "      <td>18.3680</td>\n",
              "      <td>-3.8031</td>\n",
              "      <td>41.7710</td>\n",
              "      <td>70.2066</td>\n",
              "      <td>1</td>\n",
              "    </tr>\n",
              "    <tr>\n",
              "      <th>1182</th>\n",
              "      <td>52.2264</td>\n",
              "      <td>23.3743</td>\n",
              "      <td>3.2333</td>\n",
              "      <td>0.1905</td>\n",
              "      <td>0.0956</td>\n",
              "      <td>46.3585</td>\n",
              "      <td>38.1630</td>\n",
              "      <td>7.9243</td>\n",
              "      <td>0.7950</td>\n",
              "      <td>226.3590</td>\n",
              "      <td>1</td>\n",
              "    </tr>\n",
              "    <tr>\n",
              "      <th>3389</th>\n",
              "      <td>23.2199</td>\n",
              "      <td>12.5471</td>\n",
              "      <td>2.4306</td>\n",
              "      <td>0.5195</td>\n",
              "      <td>0.3061</td>\n",
              "      <td>25.9603</td>\n",
              "      <td>11.3088</td>\n",
              "      <td>8.5799</td>\n",
              "      <td>2.3661</td>\n",
              "      <td>207.8860</td>\n",
              "      <td>1</td>\n",
              "    </tr>\n",
              "    <tr>\n",
              "      <th>18602</th>\n",
              "      <td>68.7977</td>\n",
              "      <td>31.4546</td>\n",
              "      <td>3.1931</td>\n",
              "      <td>0.1686</td>\n",
              "      <td>0.0862</td>\n",
              "      <td>-22.9900</td>\n",
              "      <td>-57.4470</td>\n",
              "      <td>26.4655</td>\n",
              "      <td>37.0270</td>\n",
              "      <td>96.5962</td>\n",
              "      <td>0</td>\n",
              "    </tr>\n",
              "    <tr>\n",
              "      <th>2428</th>\n",
              "      <td>70.2452</td>\n",
              "      <td>19.4757</td>\n",
              "      <td>2.9562</td>\n",
              "      <td>0.2721</td>\n",
              "      <td>0.1499</td>\n",
              "      <td>77.4517</td>\n",
              "      <td>-35.9015</td>\n",
              "      <td>-9.1656</td>\n",
              "      <td>5.3530</td>\n",
              "      <td>259.3790</td>\n",
              "      <td>1</td>\n",
              "    </tr>\n",
              "  </tbody>\n",
              "</table>\n",
              "<p>9510 rows × 11 columns</p>\n",
              "</div>"
            ],
            "text/plain": [
              "        fLength   fWidth   fSize   fConc  fConc1     fAsym   fM3Long  \\\n",
              "241    100.2260  28.2220  3.3769  0.2179  0.1321  -42.0608  -33.4996   \n",
              "12593  140.2162  41.3453  3.2530  0.1686  0.1083  186.5148 -103.8037   \n",
              "16315   51.5075  21.1262  2.8742  0.2781  0.1644   62.3685   -7.4534   \n",
              "18995   67.7139  28.5831  3.2384  0.2050  0.1106 -133.6450   63.1391   \n",
              "9646    33.4169  18.0260  2.8882  0.2652  0.1378  -35.9719   14.7763   \n",
              "...         ...      ...     ...     ...     ...       ...       ...   \n",
              "10863   18.8845  14.3126  2.4370  0.5667  0.3199   19.2517   18.3680   \n",
              "1182    52.2264  23.3743  3.2333  0.1905  0.0956   46.3585   38.1630   \n",
              "3389    23.2199  12.5471  2.4306  0.5195  0.3061   25.9603   11.3088   \n",
              "18602   68.7977  31.4546  3.1931  0.1686  0.0862  -22.9900  -57.4470   \n",
              "2428    70.2452  19.4757  2.9562  0.2721  0.1499   77.4517  -35.9015   \n",
              "\n",
              "       fM3Trans   fAlpha     fDist  class  \n",
              "241    -13.6411   4.4376  299.4500      1  \n",
              "12593  -39.7902  86.0878  290.2365      0  \n",
              "16315    9.7978  31.9622   37.9488      0  \n",
              "18995  -16.6379  47.9790  251.9930      0  \n",
              "9646    -9.0004  15.8210  157.3060      1  \n",
              "...         ...      ...       ...    ...  \n",
              "10863   -3.8031  41.7710   70.2066      1  \n",
              "1182     7.9243   0.7950  226.3590      1  \n",
              "3389     8.5799   2.3661  207.8860      1  \n",
              "18602   26.4655  37.0270   96.5962      0  \n",
              "2428    -9.1656   5.3530  259.3790      1  \n",
              "\n",
              "[9510 rows x 11 columns]"
            ]
          },
          "execution_count": 12,
          "metadata": {},
          "output_type": "execute_result"
        }
      ],
      "source": [
        "# Return a random sample of one row\n",
        "print(df.sample())\n",
        "# this means you're getting the entire sample, frac stands for fraction, 0.5 means you're getting half the data.\n",
        "# also, if you use df.sample(frac=1), you're essentially shuffling the data because you still get back 100% of ur data.\n",
        "df.sample(frac=0.5)"
      ]
    },
    {
      "cell_type": "code",
      "execution_count": 13,
      "metadata": {},
      "outputs": [
        {
          "name": "stdout",
          "output_type": "stream",
          "text": [
            "[array([1, 2]), array([3, 4]), array([5, 6])]\n"
          ]
        }
      ],
      "source": [
        "import numpy as np\n",
        "\n",
        "# Create a sample array\n",
        "arr = np.array([1, 2, 3, 4, 5, 6])\n",
        "\n",
        "# Split the array into 3 equal parts, giving u 3 arrays - first one is [1,2], second one [3,4], third one is [5,6]\n",
        "sub_arrays = np.split(arr, 3)\n",
        "print(sub_arrays)"
      ]
    },
    {
      "cell_type": "code",
      "execution_count": 14,
      "metadata": {},
      "outputs": [
        {
          "name": "stdout",
          "output_type": "stream",
          "text": [
            "11412\n"
          ]
        }
      ],
      "source": [
        "# this essentially give you a number representing the index of the last item at first 60% of the data, i.e. if you have 100 rows, the number returned will be 60 - we're then casting it to integer\n",
        "first_60 = int(0.6*len(df))\n",
        "first_80 = int(0.8*len(df))\n",
        "print(first_60)\n",
        "\n",
        "\n",
        "# tldr; this split it such that first 60% of your dataset is train dataset, between 60 and 80% is your validation, and the last 20% from 80-100 is your test dataset\n",
        "train, valid, test = np.split(df.sample(frac=1), [first_60, first_80])"
      ]
    },
    {
      "cell_type": "markdown",
      "metadata": {},
      "source": [
        "#### Problem: The scale of different columns may be inconsistent with the scale of other columns\n",
        "- i.e. a column `fLength` may go up to 100++ while `fConc` has value such as 0.01, 0.03, etc.\n",
        "- This inconsistency may affect algorithm's performance"
      ]
    },
    {
      "cell_type": "code",
      "execution_count": 15,
      "metadata": {},
      "outputs": [
        {
          "data": {
            "text/plain": [
              "Index(['fLength', 'fWidth', 'fSize', 'fConc', 'fConc1', 'fAsym', 'fM3Long',\n",
              "       'fM3Trans', 'fAlpha', 'fDist', 'class'],\n",
              "      dtype='object')"
            ]
          },
          "execution_count": 15,
          "metadata": {},
          "output_type": "execute_result"
        }
      ],
      "source": [
        "# returns all the values in the dataframe, i.e. array([[ 28.7967,  16.0021,   2.6449, ...,  40.092 ,  81.8828,   1.    ],\n",
        "       # [ 31.6036,  11.7235,   2.5185, ...,   6.3609, 205.261 ,   1.    ], ...\n",
        "# the .values return numpy array\n",
        "df.values\n",
        "\n",
        "# returns all the columns value, i.e. Index(['fLength', 'fWidth', 'fSize', 'fConc', 'fConc1', 'fAsym', 'fM3Long', ... ,'class'], dtype='object')\n",
        "df.columns"
      ]
    },
    {
      "cell_type": "markdown",
      "metadata": {},
      "source": [
        "#### Solution: we will do feature scaling"
      ]
    },
    {
      "cell_type": "code",
      "execution_count": 16,
      "metadata": {},
      "outputs": [],
      "source": [
        "from sklearn.preprocessing import StandardScaler\n",
        "from imblearn.over_sampling import RandomOverSampler"
      ]
    },
    {
      "cell_type": "code",
      "execution_count": 17,
      "metadata": {},
      "outputs": [],
      "source": [
        "# the TLDR; of what this is trying to do is to\n",
        "# 1. do feature scaling (in order to make sure ML model is more accurate)\n",
        "# 2. after you do feature scaling, you need to combine back the result with the class (label) column, to do that, we will need to use np.hstack and reszie the shape of the label np array\n",
        "# see https://chat.openai.com/c/d147b53b-dd8c-4ace-a350-76ab38700f8f and https://chat.openai.com/c/b63c2821-4232-4d4b-9f0b-8e4f3c8d60b4 and https://chat.openai.com/c/1dbd615a-3eb8-4f2f-9176-4d36d6953255\n",
        "def scale_dataset(df, oversample=False):\n",
        "    # tldr; this will trim the last column (i.e. 'class') and just take the values of all other columns\n",
        "    x = df[df.columns[:-1]].values\n",
        "    y = df[df.columns[-1]].values\n",
        "\n",
        "    # you can fit and transform x\n",
        "    scaler = StandardScaler()\n",
        "    # tldr; this scale the values for each of your features, i.e. 1000,2000 kinda data may become 1.2, 1.4, etc.\n",
        "    x = scaler.fit_transform(x)\n",
        "\n",
        "    # we have a lot of \"gamma\" data but few \"hadron\" data; we can use RandomOverSampler and fit_sample which essentially just duplicate the samples; i.e. generate new samples by randomly sampling with repalcement\n",
        "    # good to know that this could introduce problem of overfitting.\n",
        "    if oversample:\n",
        "        ros = RandomOverSampler()\n",
        "        x, y = ros.fit_resample(x,y)\n",
        "\n",
        "    data = np.hstack( (x, np. reshape (y, (-1, 1))))\n",
        "    return data, x, y"
      ]
    },
    {
      "cell_type": "code",
      "execution_count": 18,
      "metadata": {},
      "outputs": [
        {
          "data": {
            "text/html": [
              "<div>\n",
              "<style scoped>\n",
              "    .dataframe tbody tr th:only-of-type {\n",
              "        vertical-align: middle;\n",
              "    }\n",
              "\n",
              "    .dataframe tbody tr th {\n",
              "        vertical-align: top;\n",
              "    }\n",
              "\n",
              "    .dataframe thead th {\n",
              "        text-align: right;\n",
              "    }\n",
              "</style>\n",
              "<table border=\"1\" class=\"dataframe\">\n",
              "  <thead>\n",
              "    <tr style=\"text-align: right;\">\n",
              "      <th></th>\n",
              "      <th>fLength</th>\n",
              "      <th>fWidth</th>\n",
              "      <th>fSize</th>\n",
              "      <th>fConc</th>\n",
              "      <th>fConc1</th>\n",
              "      <th>fAsym</th>\n",
              "      <th>fM3Long</th>\n",
              "      <th>fM3Trans</th>\n",
              "      <th>fAlpha</th>\n",
              "      <th>fDist</th>\n",
              "      <th>class</th>\n",
              "    </tr>\n",
              "  </thead>\n",
              "  <tbody>\n",
              "    <tr>\n",
              "      <th>8156</th>\n",
              "      <td>19.6428</td>\n",
              "      <td>15.4887</td>\n",
              "      <td>2.4241</td>\n",
              "      <td>0.4746</td>\n",
              "      <td>0.2768</td>\n",
              "      <td>-4.9703</td>\n",
              "      <td>17.0838</td>\n",
              "      <td>8.1319</td>\n",
              "      <td>51.0691</td>\n",
              "      <td>252.6730</td>\n",
              "      <td>1</td>\n",
              "    </tr>\n",
              "    <tr>\n",
              "      <th>5321</th>\n",
              "      <td>63.8088</td>\n",
              "      <td>18.3460</td>\n",
              "      <td>2.9180</td>\n",
              "      <td>0.3092</td>\n",
              "      <td>0.1552</td>\n",
              "      <td>43.7516</td>\n",
              "      <td>65.9962</td>\n",
              "      <td>-8.3016</td>\n",
              "      <td>8.9660</td>\n",
              "      <td>225.8190</td>\n",
              "      <td>1</td>\n",
              "    </tr>\n",
              "    <tr>\n",
              "      <th>13110</th>\n",
              "      <td>69.8391</td>\n",
              "      <td>33.2876</td>\n",
              "      <td>2.7741</td>\n",
              "      <td>0.3329</td>\n",
              "      <td>0.1968</td>\n",
              "      <td>62.0212</td>\n",
              "      <td>41.4977</td>\n",
              "      <td>15.1292</td>\n",
              "      <td>8.1046</td>\n",
              "      <td>96.6540</td>\n",
              "      <td>0</td>\n",
              "    </tr>\n",
              "    <tr>\n",
              "      <th>11371</th>\n",
              "      <td>17.3878</td>\n",
              "      <td>10.8932</td>\n",
              "      <td>2.2967</td>\n",
              "      <td>0.5960</td>\n",
              "      <td>0.3510</td>\n",
              "      <td>1.2155</td>\n",
              "      <td>-6.0171</td>\n",
              "      <td>6.8011</td>\n",
              "      <td>2.3939</td>\n",
              "      <td>79.0246</td>\n",
              "      <td>1</td>\n",
              "    </tr>\n",
              "    <tr>\n",
              "      <th>15686</th>\n",
              "      <td>21.1741</td>\n",
              "      <td>15.6793</td>\n",
              "      <td>2.2735</td>\n",
              "      <td>0.5951</td>\n",
              "      <td>0.2942</td>\n",
              "      <td>36.1070</td>\n",
              "      <td>-2.3961</td>\n",
              "      <td>-5.9800</td>\n",
              "      <td>50.3440</td>\n",
              "      <td>203.7493</td>\n",
              "      <td>0</td>\n",
              "    </tr>\n",
              "    <tr>\n",
              "      <th>...</th>\n",
              "      <td>...</td>\n",
              "      <td>...</td>\n",
              "      <td>...</td>\n",
              "      <td>...</td>\n",
              "      <td>...</td>\n",
              "      <td>...</td>\n",
              "      <td>...</td>\n",
              "      <td>...</td>\n",
              "      <td>...</td>\n",
              "      <td>...</td>\n",
              "      <td>...</td>\n",
              "    </tr>\n",
              "    <tr>\n",
              "      <th>9743</th>\n",
              "      <td>40.4803</td>\n",
              "      <td>15.8483</td>\n",
              "      <td>2.8457</td>\n",
              "      <td>0.3680</td>\n",
              "      <td>0.1947</td>\n",
              "      <td>-28.5884</td>\n",
              "      <td>-11.7925</td>\n",
              "      <td>5.9756</td>\n",
              "      <td>0.8290</td>\n",
              "      <td>205.7210</td>\n",
              "      <td>1</td>\n",
              "    </tr>\n",
              "    <tr>\n",
              "      <th>18650</th>\n",
              "      <td>83.9807</td>\n",
              "      <td>50.6852</td>\n",
              "      <td>3.5779</td>\n",
              "      <td>0.2196</td>\n",
              "      <td>0.1503</td>\n",
              "      <td>-5.3041</td>\n",
              "      <td>89.3562</td>\n",
              "      <td>-23.2253</td>\n",
              "      <td>59.7327</td>\n",
              "      <td>316.8720</td>\n",
              "      <td>0</td>\n",
              "    </tr>\n",
              "    <tr>\n",
              "      <th>8226</th>\n",
              "      <td>31.8879</td>\n",
              "      <td>16.6510</td>\n",
              "      <td>2.6091</td>\n",
              "      <td>0.3100</td>\n",
              "      <td>0.1587</td>\n",
              "      <td>25.2696</td>\n",
              "      <td>17.5417</td>\n",
              "      <td>-16.3070</td>\n",
              "      <td>31.3209</td>\n",
              "      <td>68.3407</td>\n",
              "      <td>1</td>\n",
              "    </tr>\n",
              "    <tr>\n",
              "      <th>12315</th>\n",
              "      <td>24.1407</td>\n",
              "      <td>10.3973</td>\n",
              "      <td>2.4241</td>\n",
              "      <td>0.5687</td>\n",
              "      <td>0.3446</td>\n",
              "      <td>-15.1117</td>\n",
              "      <td>-19.6333</td>\n",
              "      <td>8.6287</td>\n",
              "      <td>2.5410</td>\n",
              "      <td>180.9030</td>\n",
              "      <td>1</td>\n",
              "    </tr>\n",
              "    <tr>\n",
              "      <th>633</th>\n",
              "      <td>31.2984</td>\n",
              "      <td>18.5756</td>\n",
              "      <td>2.7987</td>\n",
              "      <td>0.3720</td>\n",
              "      <td>0.2170</td>\n",
              "      <td>-0.2935</td>\n",
              "      <td>15.5327</td>\n",
              "      <td>11.3887</td>\n",
              "      <td>8.9880</td>\n",
              "      <td>211.2170</td>\n",
              "      <td>1</td>\n",
              "    </tr>\n",
              "  </tbody>\n",
              "</table>\n",
              "<p>11412 rows × 11 columns</p>\n",
              "</div>"
            ],
            "text/plain": [
              "       fLength   fWidth   fSize   fConc  fConc1    fAsym  fM3Long  fM3Trans  \\\n",
              "8156   19.6428  15.4887  2.4241  0.4746  0.2768  -4.9703  17.0838    8.1319   \n",
              "5321   63.8088  18.3460  2.9180  0.3092  0.1552  43.7516  65.9962   -8.3016   \n",
              "13110  69.8391  33.2876  2.7741  0.3329  0.1968  62.0212  41.4977   15.1292   \n",
              "11371  17.3878  10.8932  2.2967  0.5960  0.3510   1.2155  -6.0171    6.8011   \n",
              "15686  21.1741  15.6793  2.2735  0.5951  0.2942  36.1070  -2.3961   -5.9800   \n",
              "...        ...      ...     ...     ...     ...      ...      ...       ...   \n",
              "9743   40.4803  15.8483  2.8457  0.3680  0.1947 -28.5884 -11.7925    5.9756   \n",
              "18650  83.9807  50.6852  3.5779  0.2196  0.1503  -5.3041  89.3562  -23.2253   \n",
              "8226   31.8879  16.6510  2.6091  0.3100  0.1587  25.2696  17.5417  -16.3070   \n",
              "12315  24.1407  10.3973  2.4241  0.5687  0.3446 -15.1117 -19.6333    8.6287   \n",
              "633    31.2984  18.5756  2.7987  0.3720  0.2170  -0.2935  15.5327   11.3887   \n",
              "\n",
              "        fAlpha     fDist  class  \n",
              "8156   51.0691  252.6730      1  \n",
              "5321    8.9660  225.8190      1  \n",
              "13110   8.1046   96.6540      0  \n",
              "11371   2.3939   79.0246      1  \n",
              "15686  50.3440  203.7493      0  \n",
              "...        ...       ...    ...  \n",
              "9743    0.8290  205.7210      1  \n",
              "18650  59.7327  316.8720      0  \n",
              "8226   31.3209   68.3407      1  \n",
              "12315   2.5410  180.9030      1  \n",
              "633     8.9880  211.2170      1  \n",
              "\n",
              "[11412 rows x 11 columns]"
            ]
          },
          "execution_count": 18,
          "metadata": {},
          "output_type": "execute_result"
        }
      ],
      "source": [
        "# see your training dataset\n",
        "train"
      ]
    },
    {
      "cell_type": "markdown",
      "metadata": {},
      "source": [
        "#### Problem: There are way more 'gamma' dataset than 'hadron' dataset"
      ]
    },
    {
      "cell_type": "code",
      "execution_count": 19,
      "metadata": {},
      "outputs": [
        {
          "data": {
            "text/html": [
              "<div>\n",
              "<style scoped>\n",
              "    .dataframe tbody tr th:only-of-type {\n",
              "        vertical-align: middle;\n",
              "    }\n",
              "\n",
              "    .dataframe tbody tr th {\n",
              "        vertical-align: top;\n",
              "    }\n",
              "\n",
              "    .dataframe thead th {\n",
              "        text-align: right;\n",
              "    }\n",
              "</style>\n",
              "<table border=\"1\" class=\"dataframe\">\n",
              "  <thead>\n",
              "    <tr style=\"text-align: right;\">\n",
              "      <th></th>\n",
              "      <th>fLength</th>\n",
              "      <th>fWidth</th>\n",
              "      <th>fSize</th>\n",
              "      <th>fConc</th>\n",
              "      <th>fConc1</th>\n",
              "      <th>fAsym</th>\n",
              "      <th>fM3Long</th>\n",
              "      <th>fM3Trans</th>\n",
              "      <th>fAlpha</th>\n",
              "      <th>fDist</th>\n",
              "      <th>class</th>\n",
              "    </tr>\n",
              "  </thead>\n",
              "  <tbody>\n",
              "    <tr>\n",
              "      <th>8156</th>\n",
              "      <td>19.6428</td>\n",
              "      <td>15.4887</td>\n",
              "      <td>2.4241</td>\n",
              "      <td>0.4746</td>\n",
              "      <td>0.2768</td>\n",
              "      <td>-4.9703</td>\n",
              "      <td>17.0838</td>\n",
              "      <td>8.1319</td>\n",
              "      <td>51.0691</td>\n",
              "      <td>252.6730</td>\n",
              "      <td>1</td>\n",
              "    </tr>\n",
              "    <tr>\n",
              "      <th>5321</th>\n",
              "      <td>63.8088</td>\n",
              "      <td>18.3460</td>\n",
              "      <td>2.9180</td>\n",
              "      <td>0.3092</td>\n",
              "      <td>0.1552</td>\n",
              "      <td>43.7516</td>\n",
              "      <td>65.9962</td>\n",
              "      <td>-8.3016</td>\n",
              "      <td>8.9660</td>\n",
              "      <td>225.8190</td>\n",
              "      <td>1</td>\n",
              "    </tr>\n",
              "    <tr>\n",
              "      <th>11371</th>\n",
              "      <td>17.3878</td>\n",
              "      <td>10.8932</td>\n",
              "      <td>2.2967</td>\n",
              "      <td>0.5960</td>\n",
              "      <td>0.3510</td>\n",
              "      <td>1.2155</td>\n",
              "      <td>-6.0171</td>\n",
              "      <td>6.8011</td>\n",
              "      <td>2.3939</td>\n",
              "      <td>79.0246</td>\n",
              "      <td>1</td>\n",
              "    </tr>\n",
              "    <tr>\n",
              "      <th>1599</th>\n",
              "      <td>70.8315</td>\n",
              "      <td>22.3982</td>\n",
              "      <td>3.3197</td>\n",
              "      <td>0.2227</td>\n",
              "      <td>0.1252</td>\n",
              "      <td>81.8166</td>\n",
              "      <td>69.0231</td>\n",
              "      <td>19.2635</td>\n",
              "      <td>10.3850</td>\n",
              "      <td>248.9830</td>\n",
              "      <td>1</td>\n",
              "    </tr>\n",
              "    <tr>\n",
              "      <th>8383</th>\n",
              "      <td>37.5265</td>\n",
              "      <td>21.7254</td>\n",
              "      <td>3.0988</td>\n",
              "      <td>0.2087</td>\n",
              "      <td>0.1087</td>\n",
              "      <td>37.1436</td>\n",
              "      <td>8.3872</td>\n",
              "      <td>8.8451</td>\n",
              "      <td>7.3742</td>\n",
              "      <td>141.9140</td>\n",
              "      <td>1</td>\n",
              "    </tr>\n",
              "    <tr>\n",
              "      <th>...</th>\n",
              "      <td>...</td>\n",
              "      <td>...</td>\n",
              "      <td>...</td>\n",
              "      <td>...</td>\n",
              "      <td>...</td>\n",
              "      <td>...</td>\n",
              "      <td>...</td>\n",
              "      <td>...</td>\n",
              "      <td>...</td>\n",
              "      <td>...</td>\n",
              "      <td>...</td>\n",
              "    </tr>\n",
              "    <tr>\n",
              "      <th>3905</th>\n",
              "      <td>12.8630</td>\n",
              "      <td>11.4190</td>\n",
              "      <td>2.0434</td>\n",
              "      <td>0.7330</td>\n",
              "      <td>0.4027</td>\n",
              "      <td>15.1002</td>\n",
              "      <td>-7.4255</td>\n",
              "      <td>10.8121</td>\n",
              "      <td>17.0310</td>\n",
              "      <td>223.3660</td>\n",
              "      <td>1</td>\n",
              "    </tr>\n",
              "    <tr>\n",
              "      <th>9743</th>\n",
              "      <td>40.4803</td>\n",
              "      <td>15.8483</td>\n",
              "      <td>2.8457</td>\n",
              "      <td>0.3680</td>\n",
              "      <td>0.1947</td>\n",
              "      <td>-28.5884</td>\n",
              "      <td>-11.7925</td>\n",
              "      <td>5.9756</td>\n",
              "      <td>0.8290</td>\n",
              "      <td>205.7210</td>\n",
              "      <td>1</td>\n",
              "    </tr>\n",
              "    <tr>\n",
              "      <th>8226</th>\n",
              "      <td>31.8879</td>\n",
              "      <td>16.6510</td>\n",
              "      <td>2.6091</td>\n",
              "      <td>0.3100</td>\n",
              "      <td>0.1587</td>\n",
              "      <td>25.2696</td>\n",
              "      <td>17.5417</td>\n",
              "      <td>-16.3070</td>\n",
              "      <td>31.3209</td>\n",
              "      <td>68.3407</td>\n",
              "      <td>1</td>\n",
              "    </tr>\n",
              "    <tr>\n",
              "      <th>12315</th>\n",
              "      <td>24.1407</td>\n",
              "      <td>10.3973</td>\n",
              "      <td>2.4241</td>\n",
              "      <td>0.5687</td>\n",
              "      <td>0.3446</td>\n",
              "      <td>-15.1117</td>\n",
              "      <td>-19.6333</td>\n",
              "      <td>8.6287</td>\n",
              "      <td>2.5410</td>\n",
              "      <td>180.9030</td>\n",
              "      <td>1</td>\n",
              "    </tr>\n",
              "    <tr>\n",
              "      <th>633</th>\n",
              "      <td>31.2984</td>\n",
              "      <td>18.5756</td>\n",
              "      <td>2.7987</td>\n",
              "      <td>0.3720</td>\n",
              "      <td>0.2170</td>\n",
              "      <td>-0.2935</td>\n",
              "      <td>15.5327</td>\n",
              "      <td>11.3887</td>\n",
              "      <td>8.9880</td>\n",
              "      <td>211.2170</td>\n",
              "      <td>1</td>\n",
              "    </tr>\n",
              "  </tbody>\n",
              "</table>\n",
              "<p>7368 rows × 11 columns</p>\n",
              "</div>"
            ],
            "text/plain": [
              "       fLength   fWidth   fSize   fConc  fConc1    fAsym  fM3Long  fM3Trans  \\\n",
              "8156   19.6428  15.4887  2.4241  0.4746  0.2768  -4.9703  17.0838    8.1319   \n",
              "5321   63.8088  18.3460  2.9180  0.3092  0.1552  43.7516  65.9962   -8.3016   \n",
              "11371  17.3878  10.8932  2.2967  0.5960  0.3510   1.2155  -6.0171    6.8011   \n",
              "1599   70.8315  22.3982  3.3197  0.2227  0.1252  81.8166  69.0231   19.2635   \n",
              "8383   37.5265  21.7254  3.0988  0.2087  0.1087  37.1436   8.3872    8.8451   \n",
              "...        ...      ...     ...     ...     ...      ...      ...       ...   \n",
              "3905   12.8630  11.4190  2.0434  0.7330  0.4027  15.1002  -7.4255   10.8121   \n",
              "9743   40.4803  15.8483  2.8457  0.3680  0.1947 -28.5884 -11.7925    5.9756   \n",
              "8226   31.8879  16.6510  2.6091  0.3100  0.1587  25.2696  17.5417  -16.3070   \n",
              "12315  24.1407  10.3973  2.4241  0.5687  0.3446 -15.1117 -19.6333    8.6287   \n",
              "633    31.2984  18.5756  2.7987  0.3720  0.2170  -0.2935  15.5327   11.3887   \n",
              "\n",
              "        fAlpha     fDist  class  \n",
              "8156   51.0691  252.6730      1  \n",
              "5321    8.9660  225.8190      1  \n",
              "11371   2.3939   79.0246      1  \n",
              "1599   10.3850  248.9830      1  \n",
              "8383    7.3742  141.9140      1  \n",
              "...        ...       ...    ...  \n",
              "3905   17.0310  223.3660      1  \n",
              "9743    0.8290  205.7210      1  \n",
              "8226   31.3209   68.3407      1  \n",
              "12315   2.5410  180.9030      1  \n",
              "633     8.9880  211.2170      1  \n",
              "\n",
              "[7368 rows x 11 columns]"
            ]
          },
          "execution_count": 19,
          "metadata": {},
          "output_type": "execute_result"
        }
      ],
      "source": [
        "# you realize there are 7427 rows here for 'gamma'\n",
        "train[train['class']==1] # gamma"
      ]
    },
    {
      "cell_type": "code",
      "execution_count": 20,
      "metadata": {},
      "outputs": [
        {
          "data": {
            "text/html": [
              "<div>\n",
              "<style scoped>\n",
              "    .dataframe tbody tr th:only-of-type {\n",
              "        vertical-align: middle;\n",
              "    }\n",
              "\n",
              "    .dataframe tbody tr th {\n",
              "        vertical-align: top;\n",
              "    }\n",
              "\n",
              "    .dataframe thead th {\n",
              "        text-align: right;\n",
              "    }\n",
              "</style>\n",
              "<table border=\"1\" class=\"dataframe\">\n",
              "  <thead>\n",
              "    <tr style=\"text-align: right;\">\n",
              "      <th></th>\n",
              "      <th>fLength</th>\n",
              "      <th>fWidth</th>\n",
              "      <th>fSize</th>\n",
              "      <th>fConc</th>\n",
              "      <th>fConc1</th>\n",
              "      <th>fAsym</th>\n",
              "      <th>fM3Long</th>\n",
              "      <th>fM3Trans</th>\n",
              "      <th>fAlpha</th>\n",
              "      <th>fDist</th>\n",
              "      <th>class</th>\n",
              "    </tr>\n",
              "  </thead>\n",
              "  <tbody>\n",
              "    <tr>\n",
              "      <th>13110</th>\n",
              "      <td>69.8391</td>\n",
              "      <td>33.2876</td>\n",
              "      <td>2.7741</td>\n",
              "      <td>0.3329</td>\n",
              "      <td>0.1968</td>\n",
              "      <td>62.0212</td>\n",
              "      <td>41.4977</td>\n",
              "      <td>15.1292</td>\n",
              "      <td>8.1046</td>\n",
              "      <td>96.6540</td>\n",
              "      <td>0</td>\n",
              "    </tr>\n",
              "    <tr>\n",
              "      <th>15686</th>\n",
              "      <td>21.1741</td>\n",
              "      <td>15.6793</td>\n",
              "      <td>2.2735</td>\n",
              "      <td>0.5951</td>\n",
              "      <td>0.2942</td>\n",
              "      <td>36.1070</td>\n",
              "      <td>-2.3961</td>\n",
              "      <td>-5.9800</td>\n",
              "      <td>50.3440</td>\n",
              "      <td>203.7493</td>\n",
              "      <td>0</td>\n",
              "    </tr>\n",
              "    <tr>\n",
              "      <th>18985</th>\n",
              "      <td>91.6622</td>\n",
              "      <td>35.3177</td>\n",
              "      <td>2.6779</td>\n",
              "      <td>0.2960</td>\n",
              "      <td>0.1195</td>\n",
              "      <td>48.2459</td>\n",
              "      <td>80.4140</td>\n",
              "      <td>9.2752</td>\n",
              "      <td>27.0291</td>\n",
              "      <td>243.3712</td>\n",
              "      <td>0</td>\n",
              "    </tr>\n",
              "    <tr>\n",
              "      <th>15754</th>\n",
              "      <td>29.3655</td>\n",
              "      <td>10.6451</td>\n",
              "      <td>2.4775</td>\n",
              "      <td>0.5091</td>\n",
              "      <td>0.2898</td>\n",
              "      <td>-11.4265</td>\n",
              "      <td>27.2228</td>\n",
              "      <td>-6.9228</td>\n",
              "      <td>46.1961</td>\n",
              "      <td>105.0983</td>\n",
              "      <td>0</td>\n",
              "    </tr>\n",
              "    <tr>\n",
              "      <th>17379</th>\n",
              "      <td>20.8891</td>\n",
              "      <td>10.5710</td>\n",
              "      <td>2.6004</td>\n",
              "      <td>0.6600</td>\n",
              "      <td>0.3802</td>\n",
              "      <td>22.5836</td>\n",
              "      <td>14.7551</td>\n",
              "      <td>10.8077</td>\n",
              "      <td>38.2410</td>\n",
              "      <td>197.9070</td>\n",
              "      <td>0</td>\n",
              "    </tr>\n",
              "    <tr>\n",
              "      <th>...</th>\n",
              "      <td>...</td>\n",
              "      <td>...</td>\n",
              "      <td>...</td>\n",
              "      <td>...</td>\n",
              "      <td>...</td>\n",
              "      <td>...</td>\n",
              "      <td>...</td>\n",
              "      <td>...</td>\n",
              "      <td>...</td>\n",
              "      <td>...</td>\n",
              "      <td>...</td>\n",
              "    </tr>\n",
              "    <tr>\n",
              "      <th>14964</th>\n",
              "      <td>107.5470</td>\n",
              "      <td>21.5764</td>\n",
              "      <td>2.8448</td>\n",
              "      <td>0.3188</td>\n",
              "      <td>0.1694</td>\n",
              "      <td>51.8313</td>\n",
              "      <td>38.5643</td>\n",
              "      <td>14.6639</td>\n",
              "      <td>12.9259</td>\n",
              "      <td>114.5170</td>\n",
              "      <td>0</td>\n",
              "    </tr>\n",
              "    <tr>\n",
              "      <th>12457</th>\n",
              "      <td>40.4736</td>\n",
              "      <td>27.3480</td>\n",
              "      <td>2.7645</td>\n",
              "      <td>0.3972</td>\n",
              "      <td>0.2107</td>\n",
              "      <td>37.2395</td>\n",
              "      <td>34.0363</td>\n",
              "      <td>17.0206</td>\n",
              "      <td>32.3135</td>\n",
              "      <td>151.6490</td>\n",
              "      <td>0</td>\n",
              "    </tr>\n",
              "    <tr>\n",
              "      <th>14534</th>\n",
              "      <td>61.1176</td>\n",
              "      <td>5.1427</td>\n",
              "      <td>2.8755</td>\n",
              "      <td>0.3903</td>\n",
              "      <td>0.2099</td>\n",
              "      <td>59.0778</td>\n",
              "      <td>24.1920</td>\n",
              "      <td>2.7014</td>\n",
              "      <td>62.0811</td>\n",
              "      <td>109.4584</td>\n",
              "      <td>0</td>\n",
              "    </tr>\n",
              "    <tr>\n",
              "      <th>13594</th>\n",
              "      <td>19.9786</td>\n",
              "      <td>9.2008</td>\n",
              "      <td>2.4346</td>\n",
              "      <td>0.6507</td>\n",
              "      <td>0.4283</td>\n",
              "      <td>-4.1789</td>\n",
              "      <td>14.4521</td>\n",
              "      <td>10.3094</td>\n",
              "      <td>78.2768</td>\n",
              "      <td>32.3245</td>\n",
              "      <td>0</td>\n",
              "    </tr>\n",
              "    <tr>\n",
              "      <th>18650</th>\n",
              "      <td>83.9807</td>\n",
              "      <td>50.6852</td>\n",
              "      <td>3.5779</td>\n",
              "      <td>0.2196</td>\n",
              "      <td>0.1503</td>\n",
              "      <td>-5.3041</td>\n",
              "      <td>89.3562</td>\n",
              "      <td>-23.2253</td>\n",
              "      <td>59.7327</td>\n",
              "      <td>316.8720</td>\n",
              "      <td>0</td>\n",
              "    </tr>\n",
              "  </tbody>\n",
              "</table>\n",
              "<p>4044 rows × 11 columns</p>\n",
              "</div>"
            ],
            "text/plain": [
              "        fLength   fWidth   fSize   fConc  fConc1    fAsym  fM3Long  fM3Trans  \\\n",
              "13110   69.8391  33.2876  2.7741  0.3329  0.1968  62.0212  41.4977   15.1292   \n",
              "15686   21.1741  15.6793  2.2735  0.5951  0.2942  36.1070  -2.3961   -5.9800   \n",
              "18985   91.6622  35.3177  2.6779  0.2960  0.1195  48.2459  80.4140    9.2752   \n",
              "15754   29.3655  10.6451  2.4775  0.5091  0.2898 -11.4265  27.2228   -6.9228   \n",
              "17379   20.8891  10.5710  2.6004  0.6600  0.3802  22.5836  14.7551   10.8077   \n",
              "...         ...      ...     ...     ...     ...      ...      ...       ...   \n",
              "14964  107.5470  21.5764  2.8448  0.3188  0.1694  51.8313  38.5643   14.6639   \n",
              "12457   40.4736  27.3480  2.7645  0.3972  0.2107  37.2395  34.0363   17.0206   \n",
              "14534   61.1176   5.1427  2.8755  0.3903  0.2099  59.0778  24.1920    2.7014   \n",
              "13594   19.9786   9.2008  2.4346  0.6507  0.4283  -4.1789  14.4521   10.3094   \n",
              "18650   83.9807  50.6852  3.5779  0.2196  0.1503  -5.3041  89.3562  -23.2253   \n",
              "\n",
              "        fAlpha     fDist  class  \n",
              "13110   8.1046   96.6540      0  \n",
              "15686  50.3440  203.7493      0  \n",
              "18985  27.0291  243.3712      0  \n",
              "15754  46.1961  105.0983      0  \n",
              "17379  38.2410  197.9070      0  \n",
              "...        ...       ...    ...  \n",
              "14964  12.9259  114.5170      0  \n",
              "12457  32.3135  151.6490      0  \n",
              "14534  62.0811  109.4584      0  \n",
              "13594  78.2768   32.3245      0  \n",
              "18650  59.7327  316.8720      0  \n",
              "\n",
              "[4044 rows x 11 columns]"
            ]
          },
          "execution_count": 20,
          "metadata": {},
          "output_type": "execute_result"
        }
      ],
      "source": [
        "# you realize there are 3985 rows here for 'gamma'\n",
        "train[train['class']==0] # hadron"
      ]
    },
    {
      "cell_type": "markdown",
      "metadata": {},
      "source": [
        "#### Solution: We can 'oversample' our hadron dataset to make sure the data are more balanced\n",
        "- `from imblearn.over_sampling import RandomOverSampler`\n",
        "- Solution implemented in `scale_dataset` algo above."
      ]
    },
    {
      "cell_type": "code",
      "execution_count": 21,
      "metadata": {},
      "outputs": [],
      "source": [
        "# you want to oversample your train dataset\n",
        "train, x_train, y_train = scale_dataset(train, oversample=True)\n",
        "\n",
        "# but not for your test dataset; your test dataset should be unseen and clean.\n",
        "valid, x_valid, y_valid = scale_dataset(valid, oversample=False)\n",
        "test, x_test, y_test = scale_dataset(test, oversample=False)\n",
        "\n"
      ]
    },
    {
      "cell_type": "code",
      "execution_count": 22,
      "metadata": {},
      "outputs": [
        {
          "data": {
            "text/plain": [
              "14736"
            ]
          },
          "execution_count": 22,
          "metadata": {},
          "output_type": "execute_result"
        }
      ],
      "source": [
        "# 14748\n",
        "len(y_train)"
      ]
    },
    {
      "cell_type": "code",
      "execution_count": 23,
      "metadata": {},
      "outputs": [
        {
          "data": {
            "text/plain": [
              "7368"
            ]
          },
          "execution_count": 23,
          "metadata": {},
          "output_type": "execute_result"
        }
      ],
      "source": [
        "# after we scale dataset and autobalanced, we have the same value for both classes\n",
        "sum(y_train == 1)"
      ]
    },
    {
      "cell_type": "code",
      "execution_count": 24,
      "metadata": {},
      "outputs": [
        {
          "data": {
            "text/plain": [
              "7368"
            ]
          },
          "execution_count": 24,
          "metadata": {},
          "output_type": "execute_result"
        }
      ],
      "source": [
        "sum(y_train == 0)"
      ]
    },
    {
      "cell_type": "markdown",
      "metadata": {},
      "source": [
        "# K-Nearest Neighbors (KNN) Implementation"
      ]
    },
    {
      "cell_type": "code",
      "execution_count": 25,
      "metadata": {},
      "outputs": [],
      "source": [
        "from sklearn.neighbors import KNeighborsClassifier\n",
        "from sklearn.metrics import classification_report"
      ]
    },
    {
      "cell_type": "code",
      "execution_count": 26,
      "metadata": {},
      "outputs": [
        {
          "data": {
            "text/html": [
              "<style>#sk-container-id-1 {color: black;}#sk-container-id-1 pre{padding: 0;}#sk-container-id-1 div.sk-toggleable {background-color: white;}#sk-container-id-1 label.sk-toggleable__label {cursor: pointer;display: block;width: 100%;margin-bottom: 0;padding: 0.3em;box-sizing: border-box;text-align: center;}#sk-container-id-1 label.sk-toggleable__label-arrow:before {content: \"▸\";float: left;margin-right: 0.25em;color: #696969;}#sk-container-id-1 label.sk-toggleable__label-arrow:hover:before {color: black;}#sk-container-id-1 div.sk-estimator:hover label.sk-toggleable__label-arrow:before {color: black;}#sk-container-id-1 div.sk-toggleable__content {max-height: 0;max-width: 0;overflow: hidden;text-align: left;background-color: #f0f8ff;}#sk-container-id-1 div.sk-toggleable__content pre {margin: 0.2em;color: black;border-radius: 0.25em;background-color: #f0f8ff;}#sk-container-id-1 input.sk-toggleable__control:checked~div.sk-toggleable__content {max-height: 200px;max-width: 100%;overflow: auto;}#sk-container-id-1 input.sk-toggleable__control:checked~label.sk-toggleable__label-arrow:before {content: \"▾\";}#sk-container-id-1 div.sk-estimator input.sk-toggleable__control:checked~label.sk-toggleable__label {background-color: #d4ebff;}#sk-container-id-1 div.sk-label input.sk-toggleable__control:checked~label.sk-toggleable__label {background-color: #d4ebff;}#sk-container-id-1 input.sk-hidden--visually {border: 0;clip: rect(1px 1px 1px 1px);clip: rect(1px, 1px, 1px, 1px);height: 1px;margin: -1px;overflow: hidden;padding: 0;position: absolute;width: 1px;}#sk-container-id-1 div.sk-estimator {font-family: monospace;background-color: #f0f8ff;border: 1px dotted black;border-radius: 0.25em;box-sizing: border-box;margin-bottom: 0.5em;}#sk-container-id-1 div.sk-estimator:hover {background-color: #d4ebff;}#sk-container-id-1 div.sk-parallel-item::after {content: \"\";width: 100%;border-bottom: 1px solid gray;flex-grow: 1;}#sk-container-id-1 div.sk-label:hover label.sk-toggleable__label {background-color: #d4ebff;}#sk-container-id-1 div.sk-serial::before {content: \"\";position: absolute;border-left: 1px solid gray;box-sizing: border-box;top: 0;bottom: 0;left: 50%;z-index: 0;}#sk-container-id-1 div.sk-serial {display: flex;flex-direction: column;align-items: center;background-color: white;padding-right: 0.2em;padding-left: 0.2em;position: relative;}#sk-container-id-1 div.sk-item {position: relative;z-index: 1;}#sk-container-id-1 div.sk-parallel {display: flex;align-items: stretch;justify-content: center;background-color: white;position: relative;}#sk-container-id-1 div.sk-item::before, #sk-container-id-1 div.sk-parallel-item::before {content: \"\";position: absolute;border-left: 1px solid gray;box-sizing: border-box;top: 0;bottom: 0;left: 50%;z-index: -1;}#sk-container-id-1 div.sk-parallel-item {display: flex;flex-direction: column;z-index: 1;position: relative;background-color: white;}#sk-container-id-1 div.sk-parallel-item:first-child::after {align-self: flex-end;width: 50%;}#sk-container-id-1 div.sk-parallel-item:last-child::after {align-self: flex-start;width: 50%;}#sk-container-id-1 div.sk-parallel-item:only-child::after {width: 0;}#sk-container-id-1 div.sk-dashed-wrapped {border: 1px dashed gray;margin: 0 0.4em 0.5em 0.4em;box-sizing: border-box;padding-bottom: 0.4em;background-color: white;}#sk-container-id-1 div.sk-label label {font-family: monospace;font-weight: bold;display: inline-block;line-height: 1.2em;}#sk-container-id-1 div.sk-label-container {text-align: center;}#sk-container-id-1 div.sk-container {/* jupyter's `normalize.less` sets `[hidden] { display: none; }` but bootstrap.min.css set `[hidden] { display: none !important; }` so we also need the `!important` here to be able to override the default hidden behavior on the sphinx rendered scikit-learn.org. See: https://github.com/scikit-learn/scikit-learn/issues/21755 */display: inline-block !important;position: relative;}#sk-container-id-1 div.sk-text-repr-fallback {display: none;}</style><div id=\"sk-container-id-1\" class=\"sk-top-container\"><div class=\"sk-text-repr-fallback\"><pre>KNeighborsClassifier(n_neighbors=1)</pre><b>In a Jupyter environment, please rerun this cell to show the HTML representation or trust the notebook. <br />On GitHub, the HTML representation is unable to render, please try loading this page with nbviewer.org.</b></div><div class=\"sk-container\" hidden><div class=\"sk-item\"><div class=\"sk-estimator sk-toggleable\"><input class=\"sk-toggleable__control sk-hidden--visually\" id=\"sk-estimator-id-1\" type=\"checkbox\" checked><label for=\"sk-estimator-id-1\" class=\"sk-toggleable__label sk-toggleable__label-arrow\">KNeighborsClassifier</label><div class=\"sk-toggleable__content\"><pre>KNeighborsClassifier(n_neighbors=1)</pre></div></div></div></div></div>"
            ],
            "text/plain": [
              "KNeighborsClassifier(n_neighbors=1)"
            ]
          },
          "execution_count": 26,
          "metadata": {},
          "output_type": "execute_result"
        }
      ],
      "source": [
        "knn_model = KNeighborsClassifier(n_neighbors=1)\n",
        "knn_model.fit(x_train, y_train)"
      ]
    },
    {
      "cell_type": "code",
      "execution_count": 27,
      "metadata": {},
      "outputs": [
        {
          "data": {
            "text/plain": [
              "array([1, 1, 1, ..., 1, 1, 1])"
            ]
          },
          "execution_count": 27,
          "metadata": {},
          "output_type": "execute_result"
        }
      ],
      "source": [
        "y_pred = knn_model.predict(x_test)\n",
        "y_pred"
      ]
    },
    {
      "cell_type": "code",
      "execution_count": 28,
      "metadata": {},
      "outputs": [
        {
          "name": "stdout",
          "output_type": "stream",
          "text": [
            "              precision    recall  f1-score   support\n",
            "\n",
            "           0       0.76      0.67      0.71      1330\n",
            "           1       0.83      0.89      0.86      2474\n",
            "\n",
            "    accuracy                           0.81      3804\n",
            "   macro avg       0.80      0.78      0.79      3804\n",
            "weighted avg       0.81      0.81      0.81      3804\n",
            "\n"
          ]
        }
      ],
      "source": [
        "# y_test is your actual class value/label\n",
        "# y_pred is achieved above with the knn_model; so we are comparing the prediction with the true value\n",
        "# for precision, recall, and f1 score, look at your notion db.\n",
        "\n",
        "print(classification_report(y_test, y_pred))"
      ]
    },
    {
      "cell_type": "code",
      "execution_count": 29,
      "metadata": {},
      "outputs": [
        {
          "name": "stdout",
          "output_type": "stream",
          "text": [
            "              precision    recall  f1-score   support\n",
            "\n",
            "           0       0.72      0.72      0.72      1330\n",
            "           1       0.85      0.85      0.85      2474\n",
            "\n",
            "    accuracy                           0.81      3804\n",
            "   macro avg       0.79      0.79      0.79      3804\n",
            "weighted avg       0.81      0.81      0.81      3804\n",
            "\n"
          ]
        }
      ],
      "source": [
        "# retrain with different number of neighbors (k=3)\n",
        "knn_model = KNeighborsClassifier(n_neighbors=3)\n",
        "knn_model.fit(x_train, y_train)\n",
        "y_pred = knn_model.predict(x_test)\n",
        "print(classification_report(y_test, y_pred))"
      ]
    },
    {
      "cell_type": "code",
      "execution_count": 30,
      "metadata": {},
      "outputs": [
        {
          "name": "stdout",
          "output_type": "stream",
          "text": [
            "              precision    recall  f1-score   support\n",
            "\n",
            "           0       0.74      0.73      0.74      1330\n",
            "           1       0.86      0.86      0.86      2474\n",
            "\n",
            "    accuracy                           0.82      3804\n",
            "   macro avg       0.80      0.80      0.80      3804\n",
            "weighted avg       0.82      0.82      0.82      3804\n",
            "\n"
          ]
        }
      ],
      "source": [
        "# retrain with different number of neighbors (k=5)\n",
        "knn_model = KNeighborsClassifier(n_neighbors=5)\n",
        "knn_model.fit(x_train, y_train)\n",
        "y_pred = knn_model.predict(x_test)\n",
        "print(classification_report(y_test, y_pred))"
      ]
    },
    {
      "cell_type": "markdown",
      "metadata": {},
      "source": [
        "# Naive Bayes Implementation"
      ]
    },
    {
      "cell_type": "code",
      "execution_count": 31,
      "metadata": {},
      "outputs": [],
      "source": [
        "from sklearn.naive_bayes import GaussianNB"
      ]
    },
    {
      "cell_type": "code",
      "execution_count": 32,
      "metadata": {},
      "outputs": [
        {
          "data": {
            "text/html": [
              "<style>#sk-container-id-2 {color: black;}#sk-container-id-2 pre{padding: 0;}#sk-container-id-2 div.sk-toggleable {background-color: white;}#sk-container-id-2 label.sk-toggleable__label {cursor: pointer;display: block;width: 100%;margin-bottom: 0;padding: 0.3em;box-sizing: border-box;text-align: center;}#sk-container-id-2 label.sk-toggleable__label-arrow:before {content: \"▸\";float: left;margin-right: 0.25em;color: #696969;}#sk-container-id-2 label.sk-toggleable__label-arrow:hover:before {color: black;}#sk-container-id-2 div.sk-estimator:hover label.sk-toggleable__label-arrow:before {color: black;}#sk-container-id-2 div.sk-toggleable__content {max-height: 0;max-width: 0;overflow: hidden;text-align: left;background-color: #f0f8ff;}#sk-container-id-2 div.sk-toggleable__content pre {margin: 0.2em;color: black;border-radius: 0.25em;background-color: #f0f8ff;}#sk-container-id-2 input.sk-toggleable__control:checked~div.sk-toggleable__content {max-height: 200px;max-width: 100%;overflow: auto;}#sk-container-id-2 input.sk-toggleable__control:checked~label.sk-toggleable__label-arrow:before {content: \"▾\";}#sk-container-id-2 div.sk-estimator input.sk-toggleable__control:checked~label.sk-toggleable__label {background-color: #d4ebff;}#sk-container-id-2 div.sk-label input.sk-toggleable__control:checked~label.sk-toggleable__label {background-color: #d4ebff;}#sk-container-id-2 input.sk-hidden--visually {border: 0;clip: rect(1px 1px 1px 1px);clip: rect(1px, 1px, 1px, 1px);height: 1px;margin: -1px;overflow: hidden;padding: 0;position: absolute;width: 1px;}#sk-container-id-2 div.sk-estimator {font-family: monospace;background-color: #f0f8ff;border: 1px dotted black;border-radius: 0.25em;box-sizing: border-box;margin-bottom: 0.5em;}#sk-container-id-2 div.sk-estimator:hover {background-color: #d4ebff;}#sk-container-id-2 div.sk-parallel-item::after {content: \"\";width: 100%;border-bottom: 1px solid gray;flex-grow: 1;}#sk-container-id-2 div.sk-label:hover label.sk-toggleable__label {background-color: #d4ebff;}#sk-container-id-2 div.sk-serial::before {content: \"\";position: absolute;border-left: 1px solid gray;box-sizing: border-box;top: 0;bottom: 0;left: 50%;z-index: 0;}#sk-container-id-2 div.sk-serial {display: flex;flex-direction: column;align-items: center;background-color: white;padding-right: 0.2em;padding-left: 0.2em;position: relative;}#sk-container-id-2 div.sk-item {position: relative;z-index: 1;}#sk-container-id-2 div.sk-parallel {display: flex;align-items: stretch;justify-content: center;background-color: white;position: relative;}#sk-container-id-2 div.sk-item::before, #sk-container-id-2 div.sk-parallel-item::before {content: \"\";position: absolute;border-left: 1px solid gray;box-sizing: border-box;top: 0;bottom: 0;left: 50%;z-index: -1;}#sk-container-id-2 div.sk-parallel-item {display: flex;flex-direction: column;z-index: 1;position: relative;background-color: white;}#sk-container-id-2 div.sk-parallel-item:first-child::after {align-self: flex-end;width: 50%;}#sk-container-id-2 div.sk-parallel-item:last-child::after {align-self: flex-start;width: 50%;}#sk-container-id-2 div.sk-parallel-item:only-child::after {width: 0;}#sk-container-id-2 div.sk-dashed-wrapped {border: 1px dashed gray;margin: 0 0.4em 0.5em 0.4em;box-sizing: border-box;padding-bottom: 0.4em;background-color: white;}#sk-container-id-2 div.sk-label label {font-family: monospace;font-weight: bold;display: inline-block;line-height: 1.2em;}#sk-container-id-2 div.sk-label-container {text-align: center;}#sk-container-id-2 div.sk-container {/* jupyter's `normalize.less` sets `[hidden] { display: none; }` but bootstrap.min.css set `[hidden] { display: none !important; }` so we also need the `!important` here to be able to override the default hidden behavior on the sphinx rendered scikit-learn.org. See: https://github.com/scikit-learn/scikit-learn/issues/21755 */display: inline-block !important;position: relative;}#sk-container-id-2 div.sk-text-repr-fallback {display: none;}</style><div id=\"sk-container-id-2\" class=\"sk-top-container\"><div class=\"sk-text-repr-fallback\"><pre>GaussianNB()</pre><b>In a Jupyter environment, please rerun this cell to show the HTML representation or trust the notebook. <br />On GitHub, the HTML representation is unable to render, please try loading this page with nbviewer.org.</b></div><div class=\"sk-container\" hidden><div class=\"sk-item\"><div class=\"sk-estimator sk-toggleable\"><input class=\"sk-toggleable__control sk-hidden--visually\" id=\"sk-estimator-id-2\" type=\"checkbox\" checked><label for=\"sk-estimator-id-2\" class=\"sk-toggleable__label sk-toggleable__label-arrow\">GaussianNB</label><div class=\"sk-toggleable__content\"><pre>GaussianNB()</pre></div></div></div></div></div>"
            ],
            "text/plain": [
              "GaussianNB()"
            ]
          },
          "execution_count": 32,
          "metadata": {},
          "output_type": "execute_result"
        }
      ],
      "source": [
        "nb_model = GaussianNB()\n",
        "nb_model.fit(x_train, y_train)"
      ]
    },
    {
      "cell_type": "code",
      "execution_count": 33,
      "metadata": {},
      "outputs": [
        {
          "name": "stdout",
          "output_type": "stream",
          "text": [
            "              precision    recall  f1-score   support\n",
            "\n",
            "           0       0.66      0.42      0.52      1330\n",
            "           1       0.74      0.88      0.81      2474\n",
            "\n",
            "    accuracy                           0.72      3804\n",
            "   macro avg       0.70      0.65      0.66      3804\n",
            "weighted avg       0.71      0.72      0.71      3804\n",
            "\n"
          ]
        }
      ],
      "source": [
        "y_pred = nb_model.predict(x_test)\n",
        "print(classification_report(y_test, y_pred))"
      ]
    },
    {
      "cell_type": "markdown",
      "metadata": {},
      "source": [
        "#### Naive bayes underperformed compared to KNN Algorithm"
      ]
    },
    {
      "cell_type": "markdown",
      "metadata": {},
      "source": [
        "![Alt text](image-1.png)"
      ]
    },
    {
      "cell_type": "markdown",
      "metadata": {},
      "source": [
        "# Logistic Regression"
      ]
    },
    {
      "cell_type": "code",
      "execution_count": 34,
      "metadata": {},
      "outputs": [],
      "source": [
        "from sklearn.linear_model import LogisticRegression"
      ]
    },
    {
      "cell_type": "code",
      "execution_count": 35,
      "metadata": {},
      "outputs": [],
      "source": [
        "lg_model = LogisticRegression()\n",
        "lg_model = lg_model.fit(x_train, y_train)"
      ]
    },
    {
      "cell_type": "code",
      "execution_count": 36,
      "metadata": {},
      "outputs": [
        {
          "name": "stdout",
          "output_type": "stream",
          "text": [
            "              precision    recall  f1-score   support\n",
            "\n",
            "           0       0.69      0.72      0.71      1330\n",
            "           1       0.85      0.82      0.84      2474\n",
            "\n",
            "    accuracy                           0.79      3804\n",
            "   macro avg       0.77      0.77      0.77      3804\n",
            "weighted avg       0.79      0.79      0.79      3804\n",
            "\n"
          ]
        }
      ],
      "source": [
        "y_pred = lg_model.predict(x_test)\n",
        "print(classification_report(y_test, y_pred))"
      ]
    },
    {
      "cell_type": "markdown",
      "metadata": {},
      "source": [
        "# Support Vector Machine"
      ]
    },
    {
      "cell_type": "code",
      "execution_count": 37,
      "metadata": {},
      "outputs": [],
      "source": [
        "from sklearn.svm import SVC"
      ]
    },
    {
      "cell_type": "code",
      "execution_count": 38,
      "metadata": {},
      "outputs": [],
      "source": [
        "svm_model = SVC()\n",
        "svm_model = svm_model.fit(x_train, y_train)"
      ]
    },
    {
      "cell_type": "code",
      "execution_count": 39,
      "metadata": {},
      "outputs": [
        {
          "name": "stdout",
          "output_type": "stream",
          "text": [
            "              precision    recall  f1-score   support\n",
            "\n",
            "           0       0.80      0.80      0.80      1330\n",
            "           1       0.89      0.89      0.89      2474\n",
            "\n",
            "    accuracy                           0.86      3804\n",
            "   macro avg       0.85      0.85      0.85      3804\n",
            "weighted avg       0.86      0.86      0.86      3804\n",
            "\n"
          ]
        }
      ],
      "source": [
        "y_pred = svm_model.predict(x_test)\n",
        "# SVM gave us the best results so far\n",
        "print(classification_report(y_test, y_pred))"
      ]
    },
    {
      "cell_type": "markdown",
      "metadata": {},
      "source": [
        "# Neural Network"
      ]
    },
    {
      "cell_type": "code",
      "execution_count": 40,
      "metadata": {},
      "outputs": [],
      "source": [
        "import tensorflow as tf"
      ]
    },
    {
      "cell_type": "markdown",
      "metadata": {},
      "source": []
    }
  ],
  "metadata": {
    "colab": {
      "provenance": [],
      "toc_visible": true
    },
    "kernelspec": {
      "display_name": "Python 3",
      "name": "python3"
    },
    "language_info": {
      "codemirror_mode": {
        "name": "ipython",
        "version": 3
      },
      "file_extension": ".py",
      "mimetype": "text/x-python",
      "name": "python",
      "nbconvert_exporter": "python",
      "pygments_lexer": "ipython3",
      "version": "3.11.4"
    }
  },
  "nbformat": 4,
  "nbformat_minor": 0
}
